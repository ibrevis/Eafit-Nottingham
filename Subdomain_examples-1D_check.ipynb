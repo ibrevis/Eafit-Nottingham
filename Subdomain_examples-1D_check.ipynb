{
 "cells": [
  {
   "cell_type": "code",
   "execution_count": 1,
   "id": "2857a653",
   "metadata": {},
   "outputs": [],
   "source": [
    "import fenics as fn"
   ]
  },
  {
   "cell_type": "code",
   "execution_count": 2,
   "id": "08c430c3",
   "metadata": {},
   "outputs": [],
   "source": [
    "mesh = fn.UnitIntervalMesh(2**6)"
   ]
  },
  {
   "cell_type": "code",
   "execution_count": 3,
   "id": "a7dd54a2",
   "metadata": {},
   "outputs": [],
   "source": [
    "Un = fn.FunctionSpace(mesh,'CG',1)"
   ]
  },
  {
   "cell_type": "code",
   "execution_count": 4,
   "id": "71f17142",
   "metadata": {},
   "outputs": [],
   "source": [
    "tol = 1E-14\n",
    "class Omega0(fn.SubDomain):\n",
    "    def inside(self, x, on_boundary):\n",
    "        #return  x[0] >= 0.0 - tol and x[0] <= 0.5 + tol\n",
    "        return (fn.between(x[0], (0., .5)))"
   ]
  },
  {
   "cell_type": "code",
   "execution_count": 5,
   "id": "1ca4324f",
   "metadata": {},
   "outputs": [],
   "source": [
    "omega0 = Omega0()"
   ]
  },
  {
   "cell_type": "code",
   "execution_count": 6,
   "id": "263f453a",
   "metadata": {},
   "outputs": [],
   "source": [
    "domains = fn.MeshFunction(\"size_t\", mesh, mesh.topology().dim())\n",
    "domains.set_all(0)\n",
    "omega0.mark(domains, 1)  "
   ]
  },
  {
   "cell_type": "code",
   "execution_count": 7,
   "id": "cd7c4020",
   "metadata": {},
   "outputs": [],
   "source": [
    "dx_obs = fn.Measure(\"dx\", domain=mesh, subdomain_data=domains)"
   ]
  },
  {
   "cell_type": "code",
   "execution_count": 8,
   "id": "7faf28df",
   "metadata": {},
   "outputs": [],
   "source": [
    "f_exp = fn.Expression('x[0]',degree=1)\n",
    "f = fn.Function(Un)\n",
    "f.interpolate(f_exp)"
   ]
  },
  {
   "cell_type": "markdown",
   "id": "a6f67fe1",
   "metadata": {},
   "source": [
    "$$\\int_{0}^{1} f(x)\\, dx = \\left.\\frac{1}{2}x^2\\right|_{0}^{1} = \\frac{1}{2}$$"
   ]
  },
  {
   "cell_type": "code",
   "execution_count": 9,
   "id": "3730119a",
   "metadata": {},
   "outputs": [
    {
     "data": {
      "text/plain": [
       "0.5"
      ]
     },
     "execution_count": 9,
     "metadata": {},
     "output_type": "execute_result"
    }
   ],
   "source": [
    "# Integral computed over the whole domain\n",
    "fn.assemble(f*(fn.dx))"
   ]
  },
  {
   "cell_type": "markdown",
   "id": "b56df099",
   "metadata": {},
   "source": [
    "$$\\int_{0}^{0.5} f(x)\\, dx = \\left.\\frac{1}{2}x^2\\right|_{0}^{0.5} = \\frac{1}{2}\\left(\\frac{1}{4} - 0\\right) = 0.125$$"
   ]
  },
  {
   "cell_type": "code",
   "execution_count": 10,
   "id": "b25cb666",
   "metadata": {},
   "outputs": [
    {
     "data": {
      "text/plain": [
       "0.125"
      ]
     },
     "execution_count": 10,
     "metadata": {},
     "output_type": "execute_result"
    }
   ],
   "source": [
    "# Integral computed insdide subdomain omega0\n",
    "fn.assemble(f*(dx_obs(1)))"
   ]
  },
  {
   "cell_type": "markdown",
   "id": "d6978164",
   "metadata": {},
   "source": [
    "$$\\int_{0.5}^{1} f(x)\\, dx = \\left.\\frac{1}{2}x^2\\right|_{0.5}^{1} = 0.375$$"
   ]
  },
  {
   "cell_type": "code",
   "execution_count": 11,
   "id": "ed6c6612",
   "metadata": {},
   "outputs": [
    {
     "data": {
      "text/plain": [
       "0.375"
      ]
     },
     "execution_count": 11,
     "metadata": {},
     "output_type": "execute_result"
    }
   ],
   "source": [
    "# Integral computed outside subdomain omega0\n",
    "fn.assemble(f*(dx_obs(0)))"
   ]
  },
  {
   "cell_type": "code",
   "execution_count": null,
   "id": "aa33e8fd",
   "metadata": {},
   "outputs": [],
   "source": []
  }
 ],
 "metadata": {
  "kernelspec": {
   "display_name": "fn-tf-linux-env",
   "language": "python",
   "name": "fn-tf-linux-env"
  },
  "language_info": {
   "codemirror_mode": {
    "name": "ipython",
    "version": 3
   },
   "file_extension": ".py",
   "mimetype": "text/x-python",
   "name": "python",
   "nbconvert_exporter": "python",
   "pygments_lexer": "ipython3",
   "version": "3.9.13"
  }
 },
 "nbformat": 4,
 "nbformat_minor": 5
}
