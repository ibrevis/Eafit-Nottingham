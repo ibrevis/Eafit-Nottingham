{
 "cells": [
  {
   "cell_type": "code",
   "execution_count": 1,
   "id": "9028a9c6",
   "metadata": {},
   "outputs": [],
   "source": [
    "import fenics as fn\n",
    "import numpy as np\n",
    "from matplotlib import pyplot as plt"
   ]
  },
  {
   "cell_type": "markdown",
   "id": "3369f5a2",
   "metadata": {},
   "source": [
    "Let $U_1$ be a finite element space\n",
    "$$U_1 = \\langle\\{\\phi_1, \\phi_2, \\dots, \\phi_n\\}\\rangle$$\n",
    "then, any function in this space is can be written as a linear combination of the basis functions:\n",
    "$$u(x) =\\sum_{i=1}^{n}\\alpha_i \\phi_i(x)$$\n",
    "The coefficients $\\{\\alpha_1,\\alpha_2,\\dots,\\alpha_n\\}$ are usually called degrees of freedom."
   ]
  },
  {
   "cell_type": "markdown",
   "id": "07025abe",
   "metadata": {},
   "source": [
    "**We define a coarse mesh with four elements**"
   ]
  },
  {
   "cell_type": "code",
   "execution_count": 2,
   "id": "2a8fc3f2",
   "metadata": {},
   "outputs": [
    {
     "data": {
      "text/plain": [
       "[<matplotlib.lines.Line2D at 0x7f100b1e7760>]"
      ]
     },
     "execution_count": 2,
     "metadata": {},
     "output_type": "execute_result"
    },
    {
     "data": {
      "image/png": "[encoded data removed]",
      "text/plain": [
       "<Figure size 432x288 with 1 Axes>"
      ]
     },
     "metadata": {
      "needs_background": "light"
     },
     "output_type": "display_data"
    }
   ],
   "source": [
    "mesh = fn.UnitIntervalMesh(4)\n",
    "fn.plot(mesh)"
   ]
  },
  {
   "cell_type": "markdown",
   "id": "b12c8ea6",
   "metadata": {},
   "source": [
    "**We define me mixed FE space from $U_1$ and $U_2$**"
   ]
  },
  {
   "cell_type": "code",
   "execution_count": 3,
   "id": "ffd13f5a",
   "metadata": {},
   "outputs": [],
   "source": [
    "U1 = fn.FiniteElement('CG',mesh.ufl_cell(),1)\n",
    "U2 = fn.FiniteElement('CG',mesh.ufl_cell(),1)\n",
    "#\n",
    "W = fn.FunctionSpace(mesh,U1*U2)"
   ]
  },
  {
   "cell_type": "markdown",
   "id": "8a6c8f7c",
   "metadata": {},
   "source": [
    "**We define Fenics expressions in two different ways**"
   ]
  },
  {
   "cell_type": "code",
   "execution_count": 4,
   "id": "5b77ab3d",
   "metadata": {},
   "outputs": [],
   "source": [
    "A      = 1.\n",
    "B      = 2.\n",
    "f1_str = 'A*sin(2*pi*x[0])'\n",
    "f2_str = 'B*cos(2*pi*x[0])'\n",
    "# As two component function\n",
    "f      = fn.Expression((f1_str,f2_str),A=A,B=A,degree=1)\n",
    "# and two different expressions for each component \n",
    "f1     = fn.Expression(f1_str,A=A,B=A,degree=1)\n",
    "f2     = fn.Expression(f2_str,A=A,B=A,degree=1)"
   ]
  },
  {
   "cell_type": "markdown",
   "id": "88431036",
   "metadata": {},
   "source": [
    "**Notice that each of these expressions can be evaluated**"
   ]
  },
  {
   "cell_type": "code",
   "execution_count": 5,
   "id": "001ec540",
   "metadata": {},
   "outputs": [
    {
     "name": "stdout",
     "output_type": "stream",
     "text": [
      "f(0.25) : [1.000000e+00 6.123234e-17]\n",
      "f1(0.25): 1.0\n",
      "f2(0.25): 6.123233995736766e-17\n"
     ]
    }
   ],
   "source": [
    "print('f(0.25) :',f(0.25))  \n",
    "print('f1(0.25):',f1(0.25))\n",
    "print('f2(0.25):',f2(0.25))"
   ]
  },
  {
   "cell_type": "markdown",
   "id": "f3bd2f4c",
   "metadata": {},
   "source": [
    "**Now we interpolate f into a function of the mixed space $W$**"
   ]
  },
  {
   "cell_type": "code",
   "execution_count": 6,
   "id": "dd016cc6",
   "metadata": {},
   "outputs": [],
   "source": [
    "u = fn.Function(W)\n",
    "u.interpolate(f)"
   ]
  },
  {
   "cell_type": "markdown",
   "id": "3db729b5",
   "metadata": {},
   "source": [
    "**Here we can also evaluate $u$**"
   ]
  },
  {
   "cell_type": "code",
   "execution_count": 7,
   "id": "8d8b4fb3",
   "metadata": {},
   "outputs": [
    {
     "name": "stdout",
     "output_type": "stream",
     "text": [
      "u(0.25) : [1.000000e+00 6.123234e-17]\n"
     ]
    }
   ],
   "source": [
    "# Notice if you change 0.25 for for a point that is not a mesh node\n",
    "# you will get a different value of f\n",
    "print('u(0.25) :',u(0.25))"
   ]
  },
  {
   "cell_type": "markdown",
   "id": "c0a75fc8",
   "metadata": {},
   "source": [
    "**We can see the degrees of freedom (dofs)**"
   ]
  },
  {
   "cell_type": "code",
   "execution_count": 8,
   "id": "debccaf4",
   "metadata": {},
   "outputs": [
    {
     "name": "stdout",
     "output_type": "stream",
     "text": [
      "u dofs  :\n",
      " [-2.4492936e-16  1.0000000e+00 -1.0000000e+00 -1.8369702e-16\n",
      "  1.2246468e-16 -1.0000000e+00  1.0000000e+00  6.1232340e-17\n",
      "  0.0000000e+00  1.0000000e+00]\n",
      "# u dofs:\n",
      " 10\n"
     ]
    }
   ],
   "source": [
    "print('u dofs  :\\n',u.vector()[:])\n",
    "print('# u dofs:\\n',np.shape(u.vector()[:])[0])"
   ]
  },
  {
   "cell_type": "markdown",
   "id": "764312b1",
   "metadata": {},
   "source": [
    "**Notice we cannot plot $u$**"
   ]
  },
  {
   "cell_type": "code",
   "execution_count": 9,
   "id": "e1fb89dd",
   "metadata": {},
   "outputs": [
    {
     "ename": "AttributeError",
     "evalue": "Vector length must match geometric dimension.",
     "output_type": "error",
     "traceback": [
      "\u001b[0;31m---------------------------------------------------------------------------\u001b[0m",
      "\u001b[0;31mAttributeError\u001b[0m                            Traceback (most recent call last)",
      "Input \u001b[0;32mIn [9]\u001b[0m, in \u001b[0;36m<cell line: 1>\u001b[0;34m()\u001b[0m\n\u001b[0;32m----> 1\u001b[0m \u001b[43mfn\u001b[49m\u001b[38;5;241;43m.\u001b[39;49m\u001b[43mplot\u001b[49m\u001b[43m(\u001b[49m\u001b[43mu\u001b[49m\u001b[43m)\u001b[49m\n",
      "File \u001b[0;32m~/miniconda3/envs/fn-tf-linux-env/lib/python3.9/site-packages/dolfin/common/plotting.py:438\u001b[0m, in \u001b[0;36mplot\u001b[0;34m(object, *args, **kwargs)\u001b[0m\n\u001b[1;32m    436\u001b[0m \u001b[38;5;66;03m# Plot\u001b[39;00m\n\u001b[1;32m    437\u001b[0m \u001b[38;5;28;01mif\u001b[39;00m backend \u001b[38;5;241m==\u001b[39m \u001b[38;5;124m\"\u001b[39m\u001b[38;5;124mmatplotlib\u001b[39m\u001b[38;5;124m\"\u001b[39m:\n\u001b[0;32m--> 438\u001b[0m     \u001b[38;5;28;01mreturn\u001b[39;00m \u001b[43m_plot_matplotlib\u001b[49m\u001b[43m(\u001b[49m\u001b[38;5;28;43mobject\u001b[39;49m\u001b[43m,\u001b[49m\u001b[43m \u001b[49m\u001b[43mmesh\u001b[49m\u001b[43m,\u001b[49m\u001b[43m \u001b[49m\u001b[43mkwargs\u001b[49m\u001b[43m)\u001b[49m\n\u001b[1;32m    439\u001b[0m \u001b[38;5;28;01melif\u001b[39;00m backend \u001b[38;5;241m==\u001b[39m \u001b[38;5;124m\"\u001b[39m\u001b[38;5;124mx3dom\u001b[39m\u001b[38;5;124m\"\u001b[39m:\n\u001b[1;32m    440\u001b[0m     \u001b[38;5;28;01mreturn\u001b[39;00m _plot_x3dom(\u001b[38;5;28mobject\u001b[39m, kwargs)\n",
      "File \u001b[0;32m~/miniconda3/envs/fn-tf-linux-env/lib/python3.9/site-packages/dolfin/common/plotting.py:304\u001b[0m, in \u001b[0;36m_plot_matplotlib\u001b[0;34m(obj, mesh, kwargs)\u001b[0m\n\u001b[1;32m    300\u001b[0m         cpp\u001b[38;5;241m.\u001b[39mwarning(\u001b[38;5;124m\"\u001b[39m\u001b[38;5;124mMatplotlib backend does not support \u001b[39m\u001b[38;5;124m'\u001b[39m\u001b[38;5;132;01m%s\u001b[39;00m\u001b[38;5;124m'\u001b[39m\u001b[38;5;124m kwarg yet. \u001b[39m\u001b[38;5;124m\"\u001b[39m\n\u001b[1;32m    301\u001b[0m                     \u001b[38;5;124m\"\u001b[39m\u001b[38;5;124mIgnoring it...\u001b[39m\u001b[38;5;124m\"\u001b[39m \u001b[38;5;241m%\u001b[39m kw)\n\u001b[1;32m    303\u001b[0m \u001b[38;5;28;01mif\u001b[39;00m \u001b[38;5;28misinstance\u001b[39m(obj, cpp\u001b[38;5;241m.\u001b[39mfunction\u001b[38;5;241m.\u001b[39mFunction):\n\u001b[0;32m--> 304\u001b[0m     \u001b[38;5;28;01mreturn\u001b[39;00m \u001b[43mmplot_function\u001b[49m\u001b[43m(\u001b[49m\u001b[43max\u001b[49m\u001b[43m,\u001b[49m\u001b[43m \u001b[49m\u001b[43mobj\u001b[49m\u001b[43m,\u001b[49m\u001b[43m \u001b[49m\u001b[38;5;241;43m*\u001b[39;49m\u001b[38;5;241;43m*\u001b[39;49m\u001b[43mkwargs\u001b[49m\u001b[43m)\u001b[49m\n\u001b[1;32m    305\u001b[0m \u001b[38;5;28;01melif\u001b[39;00m \u001b[38;5;28misinstance\u001b[39m(obj, cpp\u001b[38;5;241m.\u001b[39mfunction\u001b[38;5;241m.\u001b[39mExpression):\n\u001b[1;32m    306\u001b[0m     \u001b[38;5;28;01mreturn\u001b[39;00m mplot_expression(ax, obj, mesh, \u001b[38;5;241m*\u001b[39m\u001b[38;5;241m*\u001b[39mkwargs)\n",
      "File \u001b[0;32m~/miniconda3/envs/fn-tf-linux-env/lib/python3.9/site-packages/dolfin/common/plotting.py:201\u001b[0m, in \u001b[0;36mmplot_function\u001b[0;34m(ax, f, **kwargs)\u001b[0m\n\u001b[1;32m    199\u001b[0m nv \u001b[38;5;241m=\u001b[39m mesh\u001b[38;5;241m.\u001b[39mnum_vertices()\n\u001b[1;32m    200\u001b[0m \u001b[38;5;28;01mif\u001b[39;00m \u001b[38;5;28mlen\u001b[39m(w0) \u001b[38;5;241m!=\u001b[39m gdim \u001b[38;5;241m*\u001b[39m nv:\n\u001b[0;32m--> 201\u001b[0m     \u001b[38;5;28;01mraise\u001b[39;00m \u001b[38;5;167;01mAttributeError\u001b[39;00m(\u001b[38;5;124m'\u001b[39m\u001b[38;5;124mVector length must match geometric dimension.\u001b[39m\u001b[38;5;124m'\u001b[39m)\n\u001b[1;32m    202\u001b[0m X \u001b[38;5;241m=\u001b[39m mesh\u001b[38;5;241m.\u001b[39mcoordinates()\n\u001b[1;32m    203\u001b[0m X \u001b[38;5;241m=\u001b[39m [X[:, i] \u001b[38;5;28;01mfor\u001b[39;00m i \u001b[38;5;129;01min\u001b[39;00m \u001b[38;5;28mrange\u001b[39m(gdim)]\n",
      "\u001b[0;31mAttributeError\u001b[0m: Vector length must match geometric dimension."
     ]
    },
    {
     "data": {
      "image/png": "[encoded data removed]",
      "text/plain": [
       "<Figure size 432x288 with 1 Axes>"
      ]
     },
     "metadata": {
      "needs_background": "light"
     },
     "output_type": "display_data"
    }
   ],
   "source": [
    "fn.plot(u)"
   ]
  },
  {
   "cell_type": "markdown",
   "id": "9d19f59b",
   "metadata": {},
   "source": [
    "**But, we can plot each of the components**"
   ]
  },
  {
   "cell_type": "code",
   "execution_count": 10,
   "id": "1fec2f70",
   "metadata": {},
   "outputs": [],
   "source": [
    "u1, u2 = u.split()"
   ]
  },
  {
   "cell_type": "code",
   "execution_count": 11,
   "id": "886ada9b",
   "metadata": {},
   "outputs": [
    {
     "data": {
      "image/png": "[encoded data removed]",
      "text/plain": [
       "<Figure size 1008x432 with 2 Axes>"
      ]
     },
     "metadata": {
      "needs_background": "light"
     },
     "output_type": "display_data"
    }
   ],
   "source": [
    "fig = plt.figure(figsize=(14,6))\n",
    "ax1 = fig.add_subplot(121)\n",
    "fn.plot(u1)\n",
    "ax2 = fig.add_subplot(122)\n",
    "fn.plot(u2)\n",
    "plt.show()"
   ]
  },
  {
   "cell_type": "markdown",
   "id": "3943c092",
   "metadata": {},
   "source": [
    "**Notice Fenics keeps all the dofs of $u$ on each component $u_1$ and $u_2$ (weird, I know!)**"
   ]
  },
  {
   "cell_type": "code",
   "execution_count": 12,
   "id": "68d2c569",
   "metadata": {},
   "outputs": [
    {
     "name": "stdout",
     "output_type": "stream",
     "text": [
      "u dofs  :\n",
      " [-2.4492936e-16  1.0000000e+00 -1.0000000e+00 -1.8369702e-16\n",
      "  1.2246468e-16 -1.0000000e+00  1.0000000e+00  6.1232340e-17\n",
      "  0.0000000e+00  1.0000000e+00]\n",
      "u1 dofs :\n",
      " [-2.4492936e-16  1.0000000e+00 -1.0000000e+00 -1.8369702e-16\n",
      "  1.2246468e-16 -1.0000000e+00  1.0000000e+00  6.1232340e-17\n",
      "  0.0000000e+00  1.0000000e+00]\n",
      "u2 dofs :\n",
      " [-2.4492936e-16  1.0000000e+00 -1.0000000e+00 -1.8369702e-16\n",
      "  1.2246468e-16 -1.0000000e+00  1.0000000e+00  6.1232340e-17\n",
      "  0.0000000e+00  1.0000000e+00]\n"
     ]
    }
   ],
   "source": [
    "print('u dofs  :\\n',u.vector()[:])\n",
    "print('u1 dofs :\\n',u1.vector()[:])\n",
    "print('u2 dofs :\\n',u2.vector()[:])"
   ]
  },
  {
   "cell_type": "markdown",
   "id": "7e351140",
   "metadata": {},
   "source": [
    "## What if..."
   ]
  },
  {
   "cell_type": "markdown",
   "id": "ed1439e4",
   "metadata": {},
   "source": [
    "**We define directily the interpolation over the subspaces**"
   ]
  },
  {
   "cell_type": "code",
   "execution_count": 13,
   "id": "355a30d4",
   "metadata": {},
   "outputs": [],
   "source": [
    "v1 = fn.interpolate(f1, W.sub(0).collapse())\n",
    "v2 = fn.interpolate(f2, W.sub(0).collapse())"
   ]
  },
  {
   "cell_type": "markdown",
   "id": "ff0ccd55",
   "metadata": {},
   "source": [
    "**We can evaluate $v_1$ and $v_2$**"
   ]
  },
  {
   "cell_type": "code",
   "execution_count": 14,
   "id": "ba324619",
   "metadata": {},
   "outputs": [
    {
     "name": "stdout",
     "output_type": "stream",
     "text": [
      "v1(0.25): 1.0\n",
      "v2(0.25): 6.123233995736766e-17\n"
     ]
    }
   ],
   "source": [
    "print('v1(0.25):',v1(0.25))\n",
    "print('v2(0.25):',v2(0.25))"
   ]
  },
  {
   "cell_type": "markdown",
   "id": "628596e6",
   "metadata": {},
   "source": [
    "**We can see the dofs**"
   ]
  },
  {
   "cell_type": "code",
   "execution_count": 15,
   "id": "879242ab",
   "metadata": {},
   "outputs": [
    {
     "name": "stdout",
     "output_type": "stream",
     "text": [
      "v1 dofs  :\n",
      " [-2.4492936e-16 -1.0000000e+00  1.2246468e-16  1.0000000e+00\n",
      "  0.0000000e+00]\n",
      "# v1 dofs:\n",
      " 5\n",
      "v2 dofs  :\n",
      " [ 1.0000000e+00 -1.8369702e-16 -1.0000000e+00  6.1232340e-17\n",
      "  1.0000000e+00]\n",
      "# v2 dofs:\n",
      " 5\n"
     ]
    }
   ],
   "source": [
    "print('v1 dofs  :\\n',v1.vector()[:])\n",
    "print('# v1 dofs:\\n',np.shape(v1.vector()[:])[0])\n",
    "#\n",
    "print('v2 dofs  :\\n',v2.vector()[:])\n",
    "print('# v2 dofs:\\n',np.shape(v2.vector()[:])[0])"
   ]
  },
  {
   "cell_type": "markdown",
   "id": "848f255a",
   "metadata": {},
   "source": [
    "**We can plot the functions**"
   ]
  },
  {
   "cell_type": "code",
   "execution_count": 16,
   "id": "5b3f049f",
   "metadata": {},
   "outputs": [
    {
     "data": {
      "image/png": "[encoded data removed]",
      "text/plain": [
       "<Figure size 1008x432 with 2 Axes>"
      ]
     },
     "metadata": {
      "needs_background": "light"
     },
     "output_type": "display_data"
    }
   ],
   "source": [
    "fig = plt.figure(figsize=(14,6))\n",
    "ax1 = fig.add_subplot(121)\n",
    "fn.plot(v1)\n",
    "ax2 = fig.add_subplot(122)\n",
    "fn.plot(v2)\n",
    "plt.show()"
   ]
  },
  {
   "cell_type": "markdown",
   "id": "e316f4b9",
   "metadata": {},
   "source": [
    "## Can we mix them?"
   ]
  },
  {
   "cell_type": "markdown",
   "id": "e02a0c21",
   "metadata": {},
   "source": [
    "let's try to sum $u_1$ and $v_1$"
   ]
  },
  {
   "cell_type": "code",
   "execution_count": 17,
   "id": "652c871b",
   "metadata": {},
   "outputs": [],
   "source": [
    "w1 = u1 + v1"
   ]
  },
  {
   "cell_type": "markdown",
   "id": "67760ad6",
   "metadata": {},
   "source": [
    "**does this work? It seems so...**\n",
    "$$\\int_{0}^{1}u_1 + v_1 \\,dx = \\int_{0}^{1}2\\sin(2\\pi x) \\,dx = 0$$"
   ]
  },
  {
   "cell_type": "code",
   "execution_count": 18,
   "id": "e879df35",
   "metadata": {},
   "outputs": [
    {
     "data": {
      "text/plain": [
       "-5.551115123125783e-17"
      ]
     },
     "execution_count": 18,
     "metadata": {},
     "output_type": "execute_result"
    }
   ],
   "source": [
    "fn.assemble(w1*(fn.dx))"
   ]
  },
  {
   "cell_type": "markdown",
   "id": "a3beef7a",
   "metadata": {},
   "source": [
    "**Let's also compare with**\n",
    "$$\\int_{0}^{1}u_1 + u_1 \\,dx$$"
   ]
  },
  {
   "cell_type": "code",
   "execution_count": 19,
   "id": "3d5fc48c",
   "metadata": {},
   "outputs": [
    {
     "data": {
      "text/plain": [
       "-5.551115123125783e-17"
      ]
     },
     "execution_count": 19,
     "metadata": {},
     "output_type": "execute_result"
    }
   ],
   "source": [
    "fn.assemble((u1+u1)*(fn.dx))"
   ]
  },
  {
   "cell_type": "markdown",
   "id": "9ded5088",
   "metadata": {},
   "source": [
    "**Can we evaluate $w_1$? Nope**"
   ]
  },
  {
   "cell_type": "code",
   "execution_count": 20,
   "id": "2139201e",
   "metadata": {},
   "outputs": [
    {
     "ename": "TypeError",
     "evalue": "f_8-0 argument after * must be an iterable, not float",
     "output_type": "error",
     "traceback": [
      "\u001b[0;31m---------------------------------------------------------------------------\u001b[0m",
      "\u001b[0;31mTypeError\u001b[0m                                 Traceback (most recent call last)",
      "Input \u001b[0;32mIn [20]\u001b[0m, in \u001b[0;36m<cell line: 1>\u001b[0;34m()\u001b[0m\n\u001b[0;32m----> 1\u001b[0m \u001b[38;5;28mprint\u001b[39m(\u001b[38;5;124m'\u001b[39m\u001b[38;5;124mw1(0.25):\u001b[39m\u001b[38;5;124m'\u001b[39m,\u001b[43mw1\u001b[49m\u001b[43m(\u001b[49m\u001b[38;5;241;43m0.25\u001b[39;49m\u001b[43m)\u001b[49m)\n",
      "File \u001b[0;32m~/miniconda3/envs/fn-tf-linux-env/lib/python3.9/site-packages/ufl/exproperators.py:341\u001b[0m, in \u001b[0;36m_call\u001b[0;34m(self, arg, mapping, component)\u001b[0m\n\u001b[1;32m    339\u001b[0m     \u001b[38;5;28;01mreturn\u001b[39;00m _restrict(\u001b[38;5;28mself\u001b[39m, arg)\n\u001b[1;32m    340\u001b[0m \u001b[38;5;28;01melse\u001b[39;00m:\n\u001b[0;32m--> 341\u001b[0m     \u001b[38;5;28;01mreturn\u001b[39;00m \u001b[43m_eval\u001b[49m\u001b[43m(\u001b[49m\u001b[38;5;28;43mself\u001b[39;49m\u001b[43m,\u001b[49m\u001b[43m \u001b[49m\u001b[43marg\u001b[49m\u001b[43m,\u001b[49m\u001b[43m \u001b[49m\u001b[43mmapping\u001b[49m\u001b[43m,\u001b[49m\u001b[43m \u001b[49m\u001b[43mcomponent\u001b[49m\u001b[43m)\u001b[49m\n",
      "File \u001b[0;32m~/miniconda3/envs/fn-tf-linux-env/lib/python3.9/site-packages/ufl/exproperators.py:331\u001b[0m, in \u001b[0;36m_eval\u001b[0;34m(self, coord, mapping, component)\u001b[0m\n\u001b[1;32m    329\u001b[0m     mapping \u001b[38;5;241m=\u001b[39m {}\n\u001b[1;32m    330\u001b[0m index_values \u001b[38;5;241m=\u001b[39m StackDict()\n\u001b[0;32m--> 331\u001b[0m \u001b[38;5;28;01mreturn\u001b[39;00m \u001b[43mf\u001b[49m\u001b[38;5;241;43m.\u001b[39;49m\u001b[43mevaluate\u001b[49m\u001b[43m(\u001b[49m\u001b[43mcoord\u001b[49m\u001b[43m,\u001b[49m\u001b[43m \u001b[49m\u001b[43mmapping\u001b[49m\u001b[43m,\u001b[49m\u001b[43m \u001b[49m\u001b[43mcomponent\u001b[49m\u001b[43m,\u001b[49m\u001b[43m \u001b[49m\u001b[43mindex_values\u001b[49m\u001b[43m)\u001b[49m\n",
      "File \u001b[0;32m~/miniconda3/envs/fn-tf-linux-env/lib/python3.9/site-packages/ufl/algebra.py:99\u001b[0m, in \u001b[0;36mSum.evaluate\u001b[0;34m(self, x, mapping, component, index_values)\u001b[0m\n\u001b[1;32m     98\u001b[0m \u001b[38;5;28;01mdef\u001b[39;00m \u001b[38;5;21mevaluate\u001b[39m(\u001b[38;5;28mself\u001b[39m, x, mapping, component, index_values):\n\u001b[0;32m---> 99\u001b[0m     \u001b[38;5;28;01mreturn\u001b[39;00m \u001b[38;5;28;43msum\u001b[39;49m\u001b[43m(\u001b[49m\u001b[43mo\u001b[49m\u001b[38;5;241;43m.\u001b[39;49m\u001b[43mevaluate\u001b[49m\u001b[43m(\u001b[49m\u001b[43mx\u001b[49m\u001b[43m,\u001b[49m\u001b[43m \u001b[49m\u001b[43mmapping\u001b[49m\u001b[43m,\u001b[49m\u001b[43m \u001b[49m\u001b[43mcomponent\u001b[49m\u001b[43m,\u001b[49m\n\u001b[1;32m    100\u001b[0m \u001b[43m                          \u001b[49m\u001b[43mindex_values\u001b[49m\u001b[43m)\u001b[49m\u001b[43m \u001b[49m\u001b[38;5;28;43;01mfor\u001b[39;49;00m\u001b[43m \u001b[49m\u001b[43mo\u001b[49m\u001b[43m \u001b[49m\u001b[38;5;129;43;01min\u001b[39;49;00m\u001b[43m \u001b[49m\u001b[38;5;28;43mself\u001b[39;49m\u001b[38;5;241;43m.\u001b[39;49m\u001b[43mufl_operands\u001b[49m\u001b[43m)\u001b[49m\n",
      "File \u001b[0;32m~/miniconda3/envs/fn-tf-linux-env/lib/python3.9/site-packages/ufl/algebra.py:99\u001b[0m, in \u001b[0;36m<genexpr>\u001b[0;34m(.0)\u001b[0m\n\u001b[1;32m     98\u001b[0m \u001b[38;5;28;01mdef\u001b[39;00m \u001b[38;5;21mevaluate\u001b[39m(\u001b[38;5;28mself\u001b[39m, x, mapping, component, index_values):\n\u001b[0;32m---> 99\u001b[0m     \u001b[38;5;28;01mreturn\u001b[39;00m \u001b[38;5;28msum\u001b[39m(\u001b[43mo\u001b[49m\u001b[38;5;241;43m.\u001b[39;49m\u001b[43mevaluate\u001b[49m\u001b[43m(\u001b[49m\u001b[43mx\u001b[49m\u001b[43m,\u001b[49m\u001b[43m \u001b[49m\u001b[43mmapping\u001b[49m\u001b[43m,\u001b[49m\u001b[43m \u001b[49m\u001b[43mcomponent\u001b[49m\u001b[43m,\u001b[49m\n\u001b[1;32m    100\u001b[0m \u001b[43m                          \u001b[49m\u001b[43mindex_values\u001b[49m\u001b[43m)\u001b[49m \u001b[38;5;28;01mfor\u001b[39;00m o \u001b[38;5;129;01min\u001b[39;00m \u001b[38;5;28mself\u001b[39m\u001b[38;5;241m.\u001b[39mufl_operands)\n",
      "File \u001b[0;32m~/miniconda3/envs/fn-tf-linux-env/lib/python3.9/site-packages/ufl/core/terminal.py:71\u001b[0m, in \u001b[0;36mTerminal.evaluate\u001b[0;34m(self, x, mapping, component, index_values, derivatives)\u001b[0m\n\u001b[1;32m     69\u001b[0m \u001b[38;5;66;03m# If it has an ufl_evaluate function, call it\u001b[39;00m\n\u001b[1;32m     70\u001b[0m \u001b[38;5;28;01mif\u001b[39;00m \u001b[38;5;28mhasattr\u001b[39m(\u001b[38;5;28mself\u001b[39m, \u001b[38;5;124m'\u001b[39m\u001b[38;5;124mufl_evaluate\u001b[39m\u001b[38;5;124m'\u001b[39m):\n\u001b[0;32m---> 71\u001b[0m     \u001b[38;5;28;01mreturn\u001b[39;00m \u001b[38;5;28;43mself\u001b[39;49m\u001b[38;5;241;43m.\u001b[39;49m\u001b[43mufl_evaluate\u001b[49m\u001b[43m(\u001b[49m\u001b[43mx\u001b[49m\u001b[43m,\u001b[49m\u001b[43m \u001b[49m\u001b[43mcomponent\u001b[49m\u001b[43m,\u001b[49m\u001b[43m \u001b[49m\u001b[43mderivatives\u001b[49m\u001b[43m)\u001b[49m\n\u001b[1;32m     72\u001b[0m \u001b[38;5;66;03m# Take component if any\u001b[39;00m\n\u001b[1;32m     73\u001b[0m warning(\u001b[38;5;124m\"\u001b[39m\u001b[38;5;124mCouldn\u001b[39m\u001b[38;5;124m'\u001b[39m\u001b[38;5;124mt map \u001b[39m\u001b[38;5;124m'\u001b[39m\u001b[38;5;132;01m%s\u001b[39;00m\u001b[38;5;124m'\u001b[39m\u001b[38;5;124m to a float, returning ufl object without evaluation.\u001b[39m\u001b[38;5;124m\"\u001b[39m \u001b[38;5;241m%\u001b[39m \u001b[38;5;28mstr\u001b[39m(\u001b[38;5;28mself\u001b[39m))\n",
      "File \u001b[0;32m~/miniconda3/envs/fn-tf-linux-env/lib/python3.9/site-packages/dolfin/function/function.py:270\u001b[0m, in \u001b[0;36mFunction.ufl_evaluate\u001b[0;34m(self, x, component, derivatives)\u001b[0m\n\u001b[1;32m    267\u001b[0m     \u001b[38;5;28;01mreturn\u001b[39;00m values[index]\n\u001b[1;32m    268\u001b[0m \u001b[38;5;28;01melse\u001b[39;00m:\n\u001b[1;32m    269\u001b[0m     \u001b[38;5;66;03m# Scalar evaluation\u001b[39;00m\n\u001b[0;32m--> 270\u001b[0m     \u001b[38;5;28;01mreturn\u001b[39;00m \u001b[38;5;28;43mself\u001b[39;49m\u001b[43m(\u001b[49m\u001b[38;5;241;43m*\u001b[39;49m\u001b[43mx\u001b[49m\u001b[43m)\u001b[49m\n",
      "\u001b[0;31mTypeError\u001b[0m: f_8-0 argument after * must be an iterable, not float"
     ]
    }
   ],
   "source": [
    "print('w1(0.25):',w1(0.25))"
   ]
  },
  {
   "cell_type": "markdown",
   "id": "517e4387",
   "metadata": {},
   "source": [
    "**Can we see the dofs? Nope!**"
   ]
  },
  {
   "cell_type": "code",
   "execution_count": 21,
   "id": "47bd86f2",
   "metadata": {},
   "outputs": [
    {
     "ename": "AttributeError",
     "evalue": "'Sum' object has no attribute 'vector'",
     "output_type": "error",
     "traceback": [
      "\u001b[0;31m---------------------------------------------------------------------------\u001b[0m",
      "\u001b[0;31mAttributeError\u001b[0m                            Traceback (most recent call last)",
      "Input \u001b[0;32mIn [21]\u001b[0m, in \u001b[0;36m<cell line: 1>\u001b[0;34m()\u001b[0m\n\u001b[0;32m----> 1\u001b[0m \u001b[38;5;28mprint\u001b[39m(\u001b[38;5;124m'\u001b[39m\u001b[38;5;124mw1 dofs  :\u001b[39m\u001b[38;5;130;01m\\n\u001b[39;00m\u001b[38;5;124m'\u001b[39m,\u001b[43mw1\u001b[49m\u001b[38;5;241;43m.\u001b[39;49m\u001b[43mvector\u001b[49m()[:])\n",
      "\u001b[0;31mAttributeError\u001b[0m: 'Sum' object has no attribute 'vector'"
     ]
    }
   ],
   "source": [
    "print('w1 dofs  :\\n',w1.vector()[:])"
   ]
  }
 ],
 "metadata": {
  "kernelspec": {
   "display_name": "Python 3 (ipykernel)",
   "language": "python",
   "name": "python3"
  },
  "language_info": {
   "codemirror_mode": {
    "name": "ipython",
    "version": 3
   },
   "file_extension": ".py",
   "mimetype": "text/x-python",
   "name": "python",
   "nbconvert_exporter": "python",
   "pygments_lexer": "ipython3",
   "version": "3.9.13"
  }
 },
 "nbformat": 4,
 "nbformat_minor": 5
}
