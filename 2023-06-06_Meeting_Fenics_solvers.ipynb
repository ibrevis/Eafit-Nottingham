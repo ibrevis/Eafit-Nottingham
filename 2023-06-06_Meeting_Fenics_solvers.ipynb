{
 "cells": [
  {
   "cell_type": "code",
   "execution_count": 1,
   "id": "e798b8a2",
   "metadata": {},
   "outputs": [],
   "source": [
    "import fenics as fn\n",
    "import numpy as np\n",
    "from matplotlib import pyplot as plt"
   ]
  },
  {
   "cell_type": "markdown",
   "id": "9a4e401e",
   "metadata": {},
   "source": [
    "**Number of elements**"
   ]
  },
  {
   "cell_type": "code",
   "execution_count": 2,
   "id": "9befc164",
   "metadata": {},
   "outputs": [],
   "source": [
    "Ne = 5"
   ]
  },
  {
   "cell_type": "markdown",
   "id": "84fdb8fa",
   "metadata": {},
   "source": [
    "**Mesh definition**"
   ]
  },
  {
   "cell_type": "code",
   "execution_count": 3,
   "id": "e9dbb0c8",
   "metadata": {},
   "outputs": [],
   "source": [
    "mesh = fn.UnitIntervalMesh(Ne)"
   ]
  },
  {
   "cell_type": "code",
   "execution_count": 4,
   "id": "006f0e54",
   "metadata": {},
   "outputs": [
    {
     "data": {
      "text/plain": [
       "[<matplotlib.lines.Line2D at 0x7f0cefb95a60>]"
      ]
     },
     "execution_count": 4,
     "metadata": {},
     "output_type": "execute_result"
    },
    {
     "data": {
      "image/png": "[encoded data removed]",
      "text/plain": [
       "<Figure size 432x288 with 1 Axes>"
      ]
     },
     "metadata": {
      "needs_background": "light"
     },
     "output_type": "display_data"
    }
   ],
   "source": [
    "fn.plot(mesh)"
   ]
  },
  {
   "cell_type": "markdown",
   "id": "1ba2a229",
   "metadata": {},
   "source": [
    "**Finite element space**\n",
    "$$\\mathbb{U}_n := \\{\\phi_1,\\phi_2,\\dots,\\phi_n\\}$$"
   ]
  },
  {
   "cell_type": "code",
   "execution_count": 5,
   "id": "c725ecd2",
   "metadata": {},
   "outputs": [],
   "source": [
    "Un = fn.FunctionSpace(mesh,'CG',1)"
   ]
  },
  {
   "cell_type": "markdown",
   "id": "7dff8497",
   "metadata": {},
   "source": [
    "$$-\\Delta u = f \\text{   en } \\Omega$$\n",
    "$$u = 0 \\text{    sobre } \\partial\\Omega$$"
   ]
  },
  {
   "cell_type": "markdown",
   "id": "d40d5589",
   "metadata": {},
   "source": [
    "$$\\int \\nabla u \\cdot \\nabla v = \\int f v$$"
   ]
  },
  {
   "cell_type": "markdown",
   "id": "3840ba7d",
   "metadata": {},
   "source": [
    "**Trial and test functions**"
   ]
  },
  {
   "cell_type": "code",
   "execution_count": 6,
   "id": "f1685745",
   "metadata": {},
   "outputs": [],
   "source": [
    "uh = fn.TrialFunction(Un)\n",
    "vh = fn.TestFunction(Un)"
   ]
  },
  {
   "cell_type": "markdown",
   "id": "0a507253",
   "metadata": {},
   "source": [
    "**Implementation of the variational formulation**"
   ]
  },
  {
   "cell_type": "code",
   "execution_count": 7,
   "id": "878cfe39",
   "metadata": {},
   "outputs": [],
   "source": [
    "b = fn.inner(fn.grad(uh),fn.grad(vh))*(fn.dx)\n",
    "l = fn.Constant(2.)*vh*(fn.dx)"
   ]
  },
  {
   "cell_type": "markdown",
   "id": "7c9aa733",
   "metadata": {},
   "source": [
    "**Boundary condition**"
   ]
  },
  {
   "cell_type": "code",
   "execution_count": 8,
   "id": "6ece6dc2",
   "metadata": {},
   "outputs": [],
   "source": [
    "g = fn.Constant(0.)\n",
    "bc = fn.DirichletBC (Un, g, 'on_boundary')"
   ]
  },
  {
   "cell_type": "markdown",
   "id": "da2e8768",
   "metadata": {},
   "source": [
    "**Finite element function**\n",
    "$$u_n(x) = \\sum_{i=1}^{n} c_i \\phi_{i}(x)$$"
   ]
  },
  {
   "cell_type": "code",
   "execution_count": 9,
   "id": "9e51fb02",
   "metadata": {},
   "outputs": [],
   "source": [
    "un = fn.Function(Un)"
   ]
  },
  {
   "cell_type": "markdown",
   "id": "d43a78ce",
   "metadata": {},
   "source": [
    "## Solver"
   ]
  },
  {
   "cell_type": "markdown",
   "id": "ad28afaf",
   "metadata": {},
   "source": [
    "**Option 1: Solve directly with a Fenics function**"
   ]
  },
  {
   "cell_type": "code",
   "execution_count": 10,
   "id": "49334ccd",
   "metadata": {},
   "outputs": [
    {
     "name": "stdout",
     "output_type": "stream",
     "text": [
      "Solving linear variational problem.\n"
     ]
    }
   ],
   "source": [
    "fn.solve(b == l, un, bc)"
   ]
  },
  {
   "cell_type": "markdown",
   "id": "88b3026a",
   "metadata": {},
   "source": [
    "Access to $\\{c_i\\}_{i=1}^{n}$"
   ]
  },
  {
   "cell_type": "code",
   "execution_count": 11,
   "id": "002f452f",
   "metadata": {},
   "outputs": [
    {
     "name": "stdout",
     "output_type": "stream",
     "text": [
      "[0.   0.16 0.24 0.24 0.16 0.  ]\n"
     ]
    }
   ],
   "source": [
    "print(un.vector()[:])"
   ]
  },
  {
   "cell_type": "code",
   "execution_count": 12,
   "id": "053d26c4",
   "metadata": {},
   "outputs": [
    {
     "data": {
      "text/plain": [
       "[<matplotlib.lines.Line2D at 0x7f0ced2be100>]"
      ]
     },
     "execution_count": 12,
     "metadata": {},
     "output_type": "execute_result"
    },
    {
     "data": {
      "image/png": "[encoded data removed]",
      "text/plain": [
       "<Figure size 432x288 with 1 Axes>"
      ]
     },
     "metadata": {
      "needs_background": "light"
     },
     "output_type": "display_data"
    }
   ],
   "source": [
    "fn.plot(un)"
   ]
  },
  {
   "cell_type": "markdown",
   "id": "9699b812",
   "metadata": {},
   "source": [
    "**Option 2: Get the matrices from Fenics and solve using an external solver**"
   ]
  },
  {
   "cell_type": "code",
   "execution_count": 13,
   "id": "c06ada99",
   "metadata": {},
   "outputs": [],
   "source": [
    "B = fn.assemble(b)\n",
    "L = fn.assemble(l)"
   ]
  },
  {
   "cell_type": "markdown",
   "id": "97211346",
   "metadata": {},
   "source": [
    "Apply boundary condition"
   ]
  },
  {
   "cell_type": "code",
   "execution_count": 14,
   "id": "579ab1dd",
   "metadata": {},
   "outputs": [],
   "source": [
    "bc.apply(B)\n",
    "bc.apply(L)"
   ]
  },
  {
   "cell_type": "markdown",
   "id": "b25ec73d",
   "metadata": {},
   "source": [
    "Transform to a numpy matrix/vector"
   ]
  },
  {
   "cell_type": "code",
   "execution_count": 15,
   "id": "94ccef42",
   "metadata": {},
   "outputs": [],
   "source": [
    "B_np = fn.as_backend_type(B).mat()[:,:]\n",
    "L_np = L[:]"
   ]
  },
  {
   "cell_type": "markdown",
   "id": "0d328959",
   "metadata": {},
   "source": [
    "solve the linear system"
   ]
  },
  {
   "cell_type": "code",
   "execution_count": 16,
   "id": "eca3afa0",
   "metadata": {},
   "outputs": [],
   "source": [
    "vec = np.linalg.solve(B_np,L_np)"
   ]
  },
  {
   "cell_type": "markdown",
   "id": "eba9c82f",
   "metadata": {},
   "source": [
    "create a $\\mathbb{U}_n$ function"
   ]
  },
  {
   "cell_type": "code",
   "execution_count": 17,
   "id": "64d61462",
   "metadata": {},
   "outputs": [],
   "source": [
    "un = fn.Function(Un)"
   ]
  },
  {
   "cell_type": "markdown",
   "id": "afa4a947",
   "metadata": {},
   "source": [
    "assign the solution of the linear system to $\\{c_i\\}_{i=1}^{n}$ in \n",
    "$$u_n(x) = \\sum_{i=1}^{n} c_i \\phi_{i}(x)$$"
   ]
  },
  {
   "cell_type": "code",
   "execution_count": 18,
   "id": "5a4664d5",
   "metadata": {},
   "outputs": [
    {
     "name": "stdout",
     "output_type": "stream",
     "text": [
      "[-8.8817842e-17  1.6000000e-01  2.4000000e-01  2.4000000e-01\n",
      "  1.6000000e-01  0.0000000e+00]\n"
     ]
    }
   ],
   "source": [
    "un.vector()[:] = vec\n",
    "print(un.vector()[:])"
   ]
  },
  {
   "cell_type": "code",
   "execution_count": 19,
   "id": "0dff4ba1",
   "metadata": {},
   "outputs": [
    {
     "data": {
      "text/plain": [
       "[<matplotlib.lines.Line2D at 0x7f0cecdde6a0>]"
      ]
     },
     "execution_count": 19,
     "metadata": {},
     "output_type": "execute_result"
    },
    {
     "data": {
      "image/png": "[encoded data removed]",
      "text/plain": [
       "<Figure size 432x288 with 1 Axes>"
      ]
     },
     "metadata": {
      "needs_background": "light"
     },
     "output_type": "display_data"
    }
   ],
   "source": [
    "fn.plot(un)"
   ]
  }
 ],
 "metadata": {
  "kernelspec": {
   "display_name": "Python 3 (ipykernel)",
   "language": "python",
   "name": "python3"
  },
  "language_info": {
   "codemirror_mode": {
    "name": "ipython",
    "version": 3
   },
   "file_extension": ".py",
   "mimetype": "text/x-python",
   "name": "python",
   "nbconvert_exporter": "python",
   "pygments_lexer": "ipython3",
   "version": "3.8.15"
  }
 },
 "nbformat": 4,
 "nbformat_minor": 5
}
