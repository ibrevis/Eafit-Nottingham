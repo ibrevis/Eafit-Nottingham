{
 "cells": [
  {
   "cell_type": "code",
   "execution_count": 33,
   "id": "e87103d3",
   "metadata": {},
   "outputs": [],
   "source": [
    "####################################################\n",
    "#Se describe el sistema a resolver, condiciones de frontera, condiciones iniciales, solución exacta\n",
    "#Se resuelve la ecuación de calor u_t - nu*u'' = f, en una dimensión, con elementos finitos fenics para la parte espacial\n",
    "# y forward euler para la parte temporal, con condiciones de frontera Dirichlet Homogeneas,\n",
    "# con la condicion inicial, u(0,t)=0, la solucion exacta del sistema es la función u=4x(1-x)\n",
    "\n",
    "####################################################\n",
    "'''\n",
    "revisa la condici'on inicial y la soluci'on exacta, as'i como est'an escritas no tienen \n",
    "mucho sentido para el problema\n",
    "'''\n",
    "#Libraries\n",
    "\n",
    "from fenics import *\n",
    "import fenics as fn\n",
    "import numpy as np\n",
    "from matplotlib import pyplot as plt\n",
    "from scipy import sparse as sp\n",
    "from scipy.sparse.linalg import spsolve\n",
    "from copy import copy, deepcopy\n",
    "import sys\n",
    "from time import time"
   ]
  },
  {
   "cell_type": "code",
   "execution_count": 34,
   "id": "cb0ad319",
   "metadata": {},
   "outputs": [
    {
     "name": "stdout",
     "output_type": "stream",
     "text": [
      "Number of elements: 50\n",
      "Number of time steps: 100\n"
     ]
    }
   ],
   "source": [
    "####################################################\n",
    "#FEM Params \n",
    "\n",
    "'''\n",
    "Elimina todas las constantes que no usas en el c'odigo\n",
    "'''\n",
    "\n",
    "nu = fn.Constant(1) # Diffusion Constant\n",
    "b = 1/2  # Punto de subdominio\n",
    "T = 1.0 # Tiempo máximo\n",
    "d_t = 1.e-2 # Delta de tiempo\n",
    "h = 2.e-2 # Tamano de paso espacial\n",
    "k = 1.e+4 # Conjugate gradient constant\n",
    "eps = 0.02 # Tolerancia\n",
    "Ne = int(1/h) # Número de particiones espaciales\n",
    "print('Number of elements:', Ne)\n",
    "Nt = int(T/d_t) # Número de particiones temporales\n",
    "t_vector = np.linspace(0,T,Nt) # Vector de espacios de tiempo\n",
    "print('Number of time steps:',Nt)\n",
    "# Boundary condition (x=0 and x=1)\n",
    "g = fn.Constant(0.0)\n",
    "# Initial condition forward problem (t=0)"
   ]
  },
  {
   "cell_type": "code",
   "execution_count": 35,
   "id": "1e23603f",
   "metadata": {},
   "outputs": [],
   "source": [
    "###################################################\n",
    "# Mesh Params \n",
    "\n",
    "mesh = fn.IntervalMesh(Ne,0,1)\n",
    "Un = fn.FunctionSpace(mesh,'CG',1)\n",
    "un1 = fn.TrialFunction(Un)\n",
    "vn = fn.TestFunction(Un)\n",
    "'''\n",
    "qu'e es el y0/yn0?\n",
    "'''\n",
    "y0 = fn.Expression('2.0*x[0]', degree=1)\n",
    "yn0 = fn.Function(Un)\n",
    "yn0.interpolate(y0) "
   ]
  },
  {
   "cell_type": "code",
   "execution_count": 36,
   "id": "5ad0aadb",
   "metadata": {},
   "outputs": [],
   "source": [
    "#####################################################\n",
    "# Used Functions\n",
    "\n",
    "# Primal Function\n",
    "def forward_prob(u0,source): \n",
    "    u1_old = fn.Function(Un)\n",
    "    u1_old.interpolate(u0)    \n",
    "\n",
    "    for idx in range(len(t_vector)): # Time Propagation\n",
    "        ##################################################\n",
    "        '''\n",
    "        La fuente (source) depende de \"t\"? si es as'i, tienes\n",
    "        que actualizar la fuente para cada tiempo!!\n",
    "        \n",
    "        https://fenicsproject.org/olddocs/dolfin/1.5.0/python/programmers-reference/functions/expression/Expression.html\n",
    "        '''\n",
    "        rhs21 = fn.assemble(source*d_t*vn*(fn.dx))\n",
    "        rhs11 = fn.assemble(u1_old*vn*(fn.dx))  \n",
    "        bc.apply(rhs11)\n",
    "        rhs1 = rhs11[:] + rhs21[:]\n",
    "        ##################################################\n",
    "        u1_new = fn.Function(Un)\n",
    "        coeff1 = spsolve(A_matrix_f,rhs1)\n",
    "        u1_new.vector()[:] = coeff1\n",
    "        u1_old.assign(u1_new)\n",
    "        ################################################## \n",
    "        # Error\n",
    "        #error = u1_new-yn_T1\n",
    "        #print(\"Error =\".format(error))\n",
    "\n",
    "    return u1_new"
   ]
  },
  {
   "cell_type": "code",
   "execution_count": 37,
   "id": "8121b6fb",
   "metadata": {},
   "outputs": [],
   "source": [
    "###################################################\n",
    "# Source\n",
    "'''\n",
    "el lado derecho de la ecuaci'on deber'ia depender de \"nu\" \n",
    "(s'e que lo tomaste igual a 1, por lo que no hace diferencia, pero igual \n",
    "lo deber'ias considerar)\n",
    "'''\n",
    "source = Expression('(4*x[0]*x[0] - 4*x[0]+8) *exp(-t)', degree=2, t=0)\n",
    "#source1 = fn.Function(Un)\n",
    "#source1.interpolate(source)"
   ]
  },
  {
   "cell_type": "code",
   "execution_count": 38,
   "id": "5fdae692",
   "metadata": {},
   "outputs": [],
   "source": [
    "# Original Functions\n",
    "y_T1 = Expression('(4*x[0]*(1-x[0])) *exp(-t)',\n",
    "                 degree=2, t=0)\n",
    "yn_T1 = interpolate(y_T1, Un)\n",
    "#yn_T1 = fn.Function(Un)\n",
    "#yn_T1.interpolate(y_T1)"
   ]
  },
  {
   "cell_type": "code",
   "execution_count": 39,
   "id": "a5eba53b",
   "metadata": {},
   "outputs": [],
   "source": [
    "####################################################\n",
    "# Boundary Conditions\n",
    "\n",
    "bc = fn.DirichletBC (Un, g, 'on_boundary')"
   ]
  },
  {
   "cell_type": "code",
   "execution_count": 40,
   "id": "655a13d4",
   "metadata": {},
   "outputs": [],
   "source": [
    "####################################################\n",
    "# Bilinear Functions\n",
    "\n",
    "bilin_form_f = un1*vn*(fn.dx) + fn.Constant(d_t)*nu*fn.dot(fn.grad(un1),fn.grad(vn))*(fn.dx)\n",
    "A_fenics = fn.assemble(bilin_form_f)\n",
    "bc.apply(A_fenics)\n",
    "A_matrix_f = fn.as_backend_type(A_fenics).mat()[:,:]\n",
    "A_matrix_f = sp.csr_matrix(A_matrix_f)"
   ]
  },
  {
   "cell_type": "code",
   "execution_count": 41,
   "id": "855afcb6",
   "metadata": {},
   "outputs": [
    {
     "data": {
      "image/png": "[encoded data removed]",
      "text/plain": [
       "<Figure size 640x480 with 1 Axes>"
      ]
     },
     "metadata": {},
     "output_type": "display_data"
    }
   ],
   "source": [
    "####################################################\n",
    "# Solve Primal\n",
    "\n",
    "y0_T1 = forward_prob(yn_T1,source)\n",
    "\n",
    "####################################################\n",
    "# Plot Solutions and Functions\n",
    "\n",
    "'''\n",
    "Revisa qu'e lo que est'as graficando aqu'i con yn_T1\n",
    "y qu'e es lo que querr'ias estar graficando\n",
    "'''\n",
    "\n",
    "fn.plot(yn_T1,label='Función Original')\n",
    "#plt.legend()\n",
    "#plt.show()  \n",
    "fn.plot(y0_T1,label='Solución Aproximada con FEM')\n",
    "plt.legend()\n",
    "plt.show()    "
   ]
  },
  {
   "cell_type": "code",
   "execution_count": null,
   "id": "e4c634ab",
   "metadata": {},
   "outputs": [],
   "source": []
  }
 ],
 "metadata": {
  "kernelspec": {
   "display_name": "fn_tr_linux_new_env",
   "language": "python",
   "name": "fn_tr_linux_new_env"
  },
  "language_info": {
   "codemirror_mode": {
    "name": "ipython",
    "version": 3
   },
   "file_extension": ".py",
   "mimetype": "text/x-python",
   "name": "python",
   "nbconvert_exporter": "python",
   "pygments_lexer": "ipython3",
   "version": "3.8.16"
  }
 },
 "nbformat": 4,
 "nbformat_minor": 5
}
