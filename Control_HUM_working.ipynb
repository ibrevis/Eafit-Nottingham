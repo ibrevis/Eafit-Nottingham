{
 "cells": [
  {
   "cell_type": "code",
   "execution_count": 1,
   "metadata": {},
   "outputs": [],
   "source": [
    "import fenics as fn\n",
    "import numpy as np\n",
    "from matplotlib import pyplot as plt\n",
    "#\n",
    "from scipy import sparse as sp\n",
    "from scipy.sparse.linalg import spsolve\n",
    "#\n",
    "from copy import copy, deepcopy\n",
    "import sys\n",
    "#\n",
    "\n",
    "from time import time"
   ]
  },
  {
   "cell_type": "markdown",
   "metadata": {},
   "source": [
    "**Initial parameters**"
   ]
  },
  {
   "cell_type": "code",
   "execution_count": 2,
   "metadata": {},
   "outputs": [],
   "source": [
    "#\n",
    "nu = fn.Constant(1/10)\n",
    "#\n",
    "b = 1/2 # np.sqrt(2)/3 # 1/2 # np.pi/6\n",
    "#\n",
    "T = 3\n",
    "#\n",
    "d_t = 1.e-2\n",
    "#\n",
    "h = 1.e-2\n",
    "#\n",
    "k = 1.e+4\n",
    "#\n",
    "eps = 1.e-6"
   ]
  },
  {
   "cell_type": "markdown",
   "metadata": {},
   "source": [
    "**Discretization parameters**"
   ]
  },
  {
   "cell_type": "code",
   "execution_count": 3,
   "metadata": {},
   "outputs": [
    {
     "name": "stdout",
     "output_type": "stream",
     "text": [
      "Number of elements: 100\n",
      "Number of time steps: 300\n"
     ]
    }
   ],
   "source": [
    "Ne = int(1/h)\n",
    "print('Number of elements:', Ne)\n",
    "#\n",
    "Nt = int(T/d_t)\n",
    "t_vector = np.linspace(0,T,Nt)\n",
    "print('Number of time steps:',Nt)"
   ]
  },
  {
   "cell_type": "code",
   "execution_count": 4,
   "metadata": {},
   "outputs": [],
   "source": [
    "# Boundary condition (x=0 and x=1)\n",
    "g = fn.Constant(0.0)\n",
    "# Initial condition forward problem (t=0)\n",
    "y0 = fn.Expression('0.0', degree=0)\n",
    "#\n",
    "v_vector = 1 - t_vector/3"
   ]
  },
  {
   "cell_type": "markdown",
   "metadata": {},
   "source": [
    "**Forward and backward solvers**"
   ]
  },
  {
   "cell_type": "code",
   "execution_count": 5,
   "metadata": {},
   "outputs": [],
   "source": [
    "def forward_prob(control,u0):\n",
    "    #\n",
    "    u_old = fn.Function(Un)\n",
    "    u_old.interpolate(u0)\n",
    "    #\n",
    "    rhs2 = fn.assemble(fn.Constant(0.0)*vn*(fn.dx))\n",
    "    delta = fn.PointSource(Un, fn.Point(b), d_t)\n",
    "    delta.apply(rhs2)\n",
    "    #\n",
    "    for idx in range(len(t_vector)):\n",
    "        ################################################\n",
    "        rhs1 = fn.assemble(u_old*vn*(fn.dx))  \n",
    "        bc.apply(rhs1)\n",
    "        #\n",
    "        #rhs2 = fn.assemble(fn.Constant(0.0)*vn*(fn.dx))\n",
    "        #delta = fn.PointSource(Un, fn.Point(b), d_t)\n",
    "        #delta.apply(rhs2)\n",
    "        #\n",
    "        rhs = rhs1[:] + control[idx]*rhs2[:]\n",
    "        ################################################\n",
    "        #\n",
    "        u_new = fn.Function(Un)\n",
    "        #\n",
    "        coeff = spsolve(A_matrix_f,rhs)\n",
    "        u_new.vector()[:] = coeff\n",
    "        #\n",
    "        u_old.assign(u_new)    \n",
    "    return u_new\n",
    "#\n",
    "def backward_prob(w0):\n",
    "    #\n",
    "    w_old = fn.Function(Un)\n",
    "    w_old.interpolate(w0)\n",
    "    #\n",
    "    control = np.zeros(np.size(t_vector))\n",
    "    #control[]\n",
    "    #\n",
    "    for idx in reversed(range(len(t_vector))):\n",
    "        #\n",
    "        ################################################\n",
    "        rhs1 = fn.assemble(w_old*vn*(fn.dx))  \n",
    "        bc.apply(rhs1)\n",
    "        #\n",
    "        rhs = rhs1[:]\n",
    "        ################################################\n",
    "        w_new = fn.Function(Un)\n",
    "        #\n",
    "        coeff = spsolve(A_matrix_b,rhs)\n",
    "        w_new.vector()[:] = coeff\n",
    "        #\n",
    "        control[idx] = w_new(b)\n",
    "        #\n",
    "        w_old.assign(w_new)      \n",
    "    return control, w_new\n",
    "\n",
    "def fenics_copy(v):\n",
    "    u = fn.Function(Un)\n",
    "    aux = copy(v.vector()[:])\n",
    "    u.vector()[:] = aux\n",
    "    return u"
   ]
  },
  {
   "cell_type": "markdown",
   "metadata": {},
   "source": [
    "**FEM mesh and spaces**"
   ]
  },
  {
   "cell_type": "code",
   "execution_count": 6,
   "metadata": {},
   "outputs": [],
   "source": [
    "mesh = fn.IntervalMesh(Ne,0,1)\n",
    "Un = fn.FunctionSpace(mesh,'CG',1)"
   ]
  },
  {
   "cell_type": "markdown",
   "metadata": {},
   "source": [
    "**Trial and test functions**"
   ]
  },
  {
   "cell_type": "code",
   "execution_count": 7,
   "metadata": {},
   "outputs": [],
   "source": [
    "un = fn.TrialFunction(Un)\n",
    "vn = fn.TestFunction(Un)"
   ]
  },
  {
   "cell_type": "markdown",
   "metadata": {},
   "source": [
    "**Objetive function**"
   ]
  },
  {
   "cell_type": "code",
   "execution_count": 8,
   "metadata": {},
   "outputs": [],
   "source": [
    "y_T = fn.Expression('4*x[0]*(1-x[0])', degree = 2)\n",
    "yn_T = fn.Function(Un)\n",
    "yn_T.interpolate(y_T)"
   ]
  },
  {
   "cell_type": "markdown",
   "metadata": {},
   "source": [
    "**Boundary condition**"
   ]
  },
  {
   "cell_type": "code",
   "execution_count": 9,
   "metadata": {},
   "outputs": [],
   "source": [
    "bc = fn.DirichletBC (Un, g, 'on_boundary')"
   ]
  },
  {
   "cell_type": "markdown",
   "metadata": {},
   "source": [
    "**Bilinear forms**"
   ]
  },
  {
   "cell_type": "code",
   "execution_count": 10,
   "metadata": {},
   "outputs": [],
   "source": [
    "bilin_form_f = un*vn*(fn.dx) + fn.Constant(d_t)*nu*fn.dot(fn.grad(un),fn.grad(vn))*(fn.dx)\n",
    "#\n",
    "A_fenics = fn.assemble(bilin_form_f)\n",
    "bc.apply(A_fenics)\n",
    "#\n",
    "A_matrix_f = fn.as_backend_type(A_fenics).mat()[:,:]\n",
    "#\n",
    "A_matrix_f = sp.csr_matrix(A_matrix_f)\n",
    "# Backward\n",
    "bilin_form_b = un*vn*(fn.dx) + fn.Constant(d_t)*nu*fn.dot(fn.grad(un),fn.grad(vn))*(fn.dx)\n",
    "#\n",
    "A_fenics = fn.assemble(bilin_form_b)\n",
    "bc.apply(A_fenics)\n",
    "#\n",
    "A_matrix_b = fn.as_backend_type(A_fenics).mat()[:,:]\n",
    "#\n",
    "A_matrix_b = sp.csr_matrix(A_matrix_b)"
   ]
  },
  {
   "cell_type": "markdown",
   "metadata": {},
   "source": [
    "**Algorithm 1.35 from Glowinski - Exact and Approximate Controlability...**"
   ]
  },
  {
   "cell_type": "code",
   "execution_count": 11,
   "metadata": {},
   "outputs": [],
   "source": [
    "# f0 given in L^{2}(\\Omega)\n",
    "f0 = fn.Function(Un)\n",
    "#f0.vector()[:] = 1.\n",
    "f0 = fenics_copy(yn_T)"
   ]
  },
  {
   "cell_type": "code",
   "execution_count": 12,
   "metadata": {},
   "outputs": [
    {
     "name": "stdout",
     "output_type": "stream",
     "text": [
      "rate: 0.2494794469240651\n",
      "keep going\n"
     ]
    },
    {
     "data": {
      "image/png": "[encoded data removed]",
      "text/plain": [
       "<Figure size 432x288 with 1 Axes>"
      ]
     },
     "metadata": {
      "needs_background": "light"
     },
     "output_type": "display_data"
    },
    {
     "data": {
      "image/png": "[encoded data removed]",
      "text/plain": [
       "<Figure size 432x288 with 1 Axes>"
      ]
     },
     "metadata": {
      "needs_background": "light"
     },
     "output_type": "display_data"
    }
   ],
   "source": [
    "# Solve first the dual\n",
    "p0,_ = backward_prob(f0)\n",
    "# and set\n",
    "u0 = copy(p0)\n",
    "# Solve now\n",
    "y0_T = forward_prob(u0,y0)\n",
    "#\n",
    "#and compute \n",
    "aux = copy( 1/k*f0.vector()[:] + y0_T.vector()[:] - yn_T.vector()[:]) # this way speed up the code!\n",
    "g0 = fn.Function(Un)\n",
    "g0.vector()[:] = aux\n",
    "#\n",
    "g0_norm = np.sqrt(fn.assemble(g0**2*(fn.dx)))\n",
    "term_down = np.sqrt(fn.assemble(f0**2*(fn.dx)))\n",
    "rate = g0_norm/term_down\n",
    "print('rate:',rate)\n",
    "\n",
    "if rate < eps:\n",
    "    print('we are done')\n",
    "    f_final = f0\n",
    "    u_final = u0\n",
    "else:\n",
    "    print('keep going')\n",
    "    w0 = g0\n",
    "    \n",
    "plt.figure()\n",
    "plt.plot(t_vector,p0)\n",
    "plt.title('Control')\n",
    "plt.figure()\n",
    "fn.plot(y0_T,label='current function')\n",
    "fn.plot(yn_T,label='objective function')\n",
    "plt.legend()\n",
    "plt.show()    "
   ]
  },
  {
   "cell_type": "code",
   "execution_count": 13,
   "metadata": {},
   "outputs": [
    {
     "name": "stdout",
     "output_type": "stream",
     "text": [
      "rho: 6.7715633998101525\n",
      "keep going!\n",
      "rate: 1.4944195465367347\n",
      "-----------------------------------\n",
      "rho: 1.5423615180220331\n",
      "keep going!\n",
      "rate: 0.38929171226785936\n",
      "-----------------------------------\n",
      "rho: 59.05299419836438\n",
      "keep going!\n",
      "rate: 0.15841244507539323\n",
      "-----------------------------------\n",
      "rho: 491.2601413233133\n",
      "keep going!\n",
      "rate: 0.06425358621307668\n",
      "-----------------------------------\n",
      "rho: 3518.319069075942\n",
      "keep going!\n",
      "rate: 0.017609156517886432\n",
      "-----------------------------------\n",
      "rho: 7936.700498905075\n",
      "keep going!\n",
      "rate: 0.0008419376764314207\n",
      "-----------------------------------\n",
      "rho: 6.862699121780386\n",
      "keep going!\n",
      "rate: 0.0021083161731616346\n",
      "-----------------------------------\n",
      "rho: 1330.6557782951143\n",
      "keep going!\n",
      "rate: 1.0269630217701485e-05\n",
      "-----------------------------------\n",
      "rho: 9.261703076651884\n",
      "keep going!\n",
      "rate: 2.269594362435823e-06\n",
      "-----------------------------------\n",
      "rho: 9514.881210850686\n",
      "we are done!\n"
     ]
    },
    {
     "data": {
      "image/png": "[encoded data removed]",
      "text/plain": [
       "<Figure size 432x288 with 1 Axes>"
      ]
     },
     "metadata": {
      "needs_background": "light"
     },
     "output_type": "display_data"
    }
   ],
   "source": [
    "# Then for n > 0, assuming that fk, gk, and wk are known, compute f{k+1}, g{k+1}, w{k+1} as folow\n",
    "f_old = fenics_copy(f0) \n",
    "g_old = fenics_copy(g0)\n",
    "w_old = fenics_copy(g0)\n",
    "#\n",
    "for iteration in range(12):\n",
    "    # dual\n",
    "    p_bar,_ = backward_prob(w_old)\n",
    "    u_bar = copy(p_bar) # (control)\n",
    "    # primal\n",
    "    plt.plot(t_vector,u_bar)\n",
    "    y_bar = forward_prob(u_bar,fn.Expression('0,0',degree=0)) # here it should be 0 instead of y0, but y0 already is cero!\n",
    "    # and compute\n",
    "    aux = copy((1/k)*w_old.vector()[:] + y_bar.vector()[:]) # speed ups!\n",
    "    g_bar = fn.Function(Un)\n",
    "    g_bar.vector()[:] = aux\n",
    "    #\n",
    "    rho_up = fn.assemble(g_old**2*(fn.dx))\n",
    "    rho_down = fn.assemble(g_bar*w_old*(fn.dx))\n",
    "    rho = rho_up/rho_down\n",
    "    print('rho:',rho)\n",
    "    # Updates\n",
    "    f_new = fn.Function(Un)\n",
    "    g_new = fn.Function(Un)\n",
    "    #\n",
    "    aux = copy(f_old.vector()[:] - rho*w_old.vector()[:])           \n",
    "    f_new.vector()[:] = aux\n",
    "    #      \n",
    "    aux = copy(g_old.vector()[:] - rho*g_bar.vector()[:])           \n",
    "    g_new.vector()[:] = aux\n",
    "    # Stopping criteria (falta un criterio de parada aquí)\n",
    "    \n",
    "    #\n",
    "    gamma_up   = fn.assemble(g_new**2*(fn.dx))\n",
    "    gamma_down = fn.assemble(g_old**2*(fn.dx))\n",
    "    gamma = gamma_up/gamma_down\n",
    "    #\n",
    "    rate = np.sqrt(gamma_up)/g0_norm\n",
    "    if rate < eps:\n",
    "        f_final = fenics_copy(f_new)\n",
    "        print('we are done!')\n",
    "        break\n",
    "    else:\n",
    "        w_new = fn.Function(Un)\n",
    "        aux = copy(g_new.vector()[:] + gamma*w_old.vector()[:])\n",
    "        w_new.vector()[:] = aux\n",
    "        print('keep going!')\n",
    "    print('rate:',rate)\n",
    "    print('-----------------------------------')\n",
    "    #\n",
    "    # Update\n",
    "    f_old = fenics_copy(f_new)\n",
    "    g_old = fenics_copy(g_new)\n",
    "    w_old = fenics_copy(w_new)"
   ]
  },
  {
   "cell_type": "code",
   "execution_count": 14,
   "metadata": {},
   "outputs": [],
   "source": [
    "p_bar,_ = backward_prob(f_final)\n",
    "y_bar = forward_prob(p_bar,fn.Expression('0,0',degree=0))"
   ]
  },
  {
   "cell_type": "code",
   "execution_count": 15,
   "metadata": {},
   "outputs": [
    {
     "data": {
      "image/png": "[encoded data removed]",
      "text/plain": [
       "<Figure size 432x288 with 1 Axes>"
      ]
     },
     "metadata": {
      "needs_background": "light"
     },
     "output_type": "display_data"
    }
   ],
   "source": [
    "fn.plot(y_bar,label='current solution')\n",
    "fn.plot(yn_T,label='expected solution')\n",
    "plt.legend()\n",
    "plt.show()"
   ]
  },
  {
   "cell_type": "code",
   "execution_count": 16,
   "metadata": {},
   "outputs": [
    {
     "name": "stdout",
     "output_type": "stream",
     "text": [
      "9.2e-03\n"
     ]
    }
   ],
   "source": [
    "error = np.sqrt(fn.assemble((y_bar - yn_T)**2*(fn.dx))/fn.assemble(yn_T**2*(fn.dx)))\n",
    "print(format(error, \".1e\"))"
   ]
  },
  {
   "cell_type": "code",
   "execution_count": 17,
   "metadata": {},
   "outputs": [
    {
     "data": {
      "image/png": "[encoded data removed]",
      "text/plain": [
       "<Figure size 432x288 with 1 Axes>"
      ]
     },
     "metadata": {
      "needs_background": "light"
     },
     "output_type": "display_data"
    }
   ],
   "source": [
    "plt.plot(t_vector,p_bar)\n",
    "plt.show()"
   ]
  },
  {
   "cell_type": "code",
   "execution_count": null,
   "metadata": {},
   "outputs": [],
   "source": []
  }
 ],
 "metadata": {
  "kernelspec": {
   "display_name": "Python 3 (ipykernel)",
   "language": "python",
   "name": "python3"
  },
  "language_info": {
   "codemirror_mode": {
    "name": "ipython",
    "version": 3
   },
   "file_extension": ".py",
   "mimetype": "text/x-python",
   "name": "python",
   "nbconvert_exporter": "python",
   "pygments_lexer": "ipython3",
   "version": "3.8.16"
  }
 },
 "nbformat": 4,
 "nbformat_minor": 4
}
